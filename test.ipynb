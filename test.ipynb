import re
import numpy as np
import os
import nltk
import string
from nltk.corpus import stopwords
import pandas as pd
from sklearn.tree import DecisionTreeClassifier
from sklearn.feature_extraction.text import TfidfVectorizer
from sklearn.model_selection import train_test_split
from sklearn.naive_bayes import BernoulliNB
from sklearn.metrics import accuracy_score, precision_score,recall_score
from sklearn.neighbors import KNeighborsClassifier
from sklearn import metrics
from sklearn import svm  
from sklearn.decomposition import PCA
from sklearn.cluster import KMeans
from sklearn.metrics import silhouette_score
from sklearn.cluster import AgglomerativeClustering
import matplotlib.pyplot as plt
import seaborn as sns




nltk.stem.PorterStemmer().stem
stopwrds = stopwords.words("english")
cats = os.listdir(os.getcwd())[1:-1]

key_arr =[]
val_arr = []


for val in cats:
    dir_test = os.listdir(os.getcwd()+f"\\{val}")
    for vl in dir_test:
        with open(os.getcwd() + f"\\{val}\\{vl}") as f:
            for v1 in f:
                vt= v1.lower().replace("\n","")
                if len(vt)>1:
                    key_arr.append(vt)
                    val_arr.append(val)
topic_df = pd.DataFrame({'keys1':key_arr,'vals':val_arr})
topic_df
def clean_wds(sents):
    vl2 = sents.split(" ")
    stopped =[v for v in vl2 if v not in stopwrds]
    punctued= [''.join(c for c in s if c not in string.punctuation) for s in stopped]
    stemmed_val = [nltk.stem.PorterStemmer().stem(v) for v in punctued]
    no_number= [re.sub(r'\d+', '',v) for v in stemmed_val]
    return " ".join(no_number)


topic_df["keys1"] = topic_df.keys1.apply(clean_wds)
topic_df
tfidf_model=TfidfVectorizer()
tfidf_vec=tfidf_model.fit_transform(topic_df.keys1)
tfidf_data=pd.DataFrame(tfidf_vec.toarray())
tfidf_data

X_train,X_test,y_train,y_test = train_test_split(tfidf_data,topic_df['vals'],test_size=.2)
model_naive = BernoulliNB()
model_naive = model_naive.fit(X_train,y_train)
predicted_naive = model_naive.predict(X_test)
np.mean(predicted_naive==y_test)

print("ACCURACY + ",accuracy_score(predicted_naive,y_test))
print("PRECİSİON",precision_score(predicted_naive,y_test,average='weighted'))
print("RECALL" , recall_score(predicted_naive,y_test,average='weighted'))
knn = KNeighborsClassifier(n_neighbors=1)
knn.fit(X_train, y_train)
y_pred = knn.predict(X_test)

print("ACCURACY:",metrics.accuracy_score(y_test, y_pred))
print("PRECİSİON:",precision_score(y_pred,y_test,average='weighted'))
print("RECALL" , recall_score(y_pred,y_test,average='weighted'))
clf = svm.SVC(kernel='linear')
clf.fit(X_train, y_train)
y_pred = clf.predict(X_test)

print("ACCURACY:",metrics.accuracy_score(y_test, y_pred))
print("PRECİSİON:",precision_score(y_pred,y_test,average='weighted'))
print("RECALL" , recall_score(y_pred,y_test,average='weighted'))
clf = DecisionTreeClassifier()
clf = clf.fit(X_train,y_train)
y_pred = clf.predict(X_test)

print("ACCURACY:",metrics.accuracy_score(y_test, y_pred))
print("PRECİSİON:",precision_score(y_pred,y_test,average='weighted'))
print("RECALL" , recall_score(y_pred,y_test,average='weighted'))
pca = PCA(n_components=2)
principalComponents = pca.fit_transform(tfidf_data)
principalComponents
n_clusters=4

clusterer = KMeans (n_clusters=n_clusters, init = 'k-means++').fit(principalComponents)
preds = clusterer.predict(principalComponents)
centers = clusterer.cluster_centers_

plt.scatter(principalComponents[:, 0], principalComponents[:, 1], c=preds, s=50, cmap='viridis')
plt.scatter(centers[:, 0], centers[:, 1], c='black', s=200, alpha=0.5);
clustering = AgglomerativeClustering(n_clusters=None,distance_threshold=6.8,compute_full_tree=True).fit(principalComponents)
nclusters=clustering.n_clusters_
labels=clustering.labels_
import matplotlib.pyplot as plt
plt.scatter(principalComponents[:, 0], principalComponents[:, 1], c=labels, s=50, cmap='viridis')
plt.scatter(centers[:, 0], centers[:, 1], c='black', s=200, alpha=0.5);
